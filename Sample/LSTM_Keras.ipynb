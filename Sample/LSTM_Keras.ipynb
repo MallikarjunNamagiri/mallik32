{
 "cells": [
  {
   "cell_type": "code",
   "execution_count": 1,
   "metadata": {},
   "outputs": [
    {
     "name": "stderr",
     "output_type": "stream",
     "text": [
      "Using TensorFlow backend.\n"
     ]
    }
   ],
   "source": [
    "import numpy\n",
    "from keras.models import Sequential\n",
    "from keras.layers import Dense\n",
    "from keras.layers import Dropout\n",
    "from keras.layers import LSTM\n",
    "from keras.callbacks import ModelCheckpoint\n",
    "from keras.utils import np_utils"
   ]
  },
  {
   "cell_type": "code",
   "execution_count": 2,
   "metadata": {
    "collapsed": true
   },
   "outputs": [],
   "source": [
    "# load ascii text and covert to lowercase\n",
    "filename = \"final_raw.txt\"\n",
    "raw_text = open(filename).read()\n",
    "raw_text = raw_text.lower()"
   ]
  },
  {
   "cell_type": "code",
   "execution_count": 3,
   "metadata": {
    "collapsed": true
   },
   "outputs": [],
   "source": [
    "# create mapping of unique chars to integers\n",
    "chars = sorted(list(set(raw_text)))\n",
    "char_to_int = dict((c, i) for i, c in enumerate(chars))"
   ]
  },
  {
   "cell_type": "code",
   "execution_count": 4,
   "metadata": {},
   "outputs": [
    {
     "name": "stdout",
     "output_type": "stream",
     "text": [
      "Total Characters:  387506\n",
      "Total Vocab:  43\n"
     ]
    }
   ],
   "source": [
    "n_chars = len(raw_text)\n",
    "n_vocab = len(chars)\n",
    "print(\"Total Characters: \", n_chars) \n",
    "print(\"Total Vocab: \", n_vocab) "
   ]
  },
  {
   "cell_type": "code",
   "execution_count": 5,
   "metadata": {},
   "outputs": [
    {
     "name": "stdout",
     "output_type": "stream",
     "text": [
      "Total Patterns:  387406\n"
     ]
    }
   ],
   "source": [
    "# prepare the dataset of input to output pairs encoded as integers\n",
    "seq_length = 100\n",
    "dataX = []\n",
    "dataY = []\n",
    "for i in range(0, n_chars - seq_length, 1):\n",
    "    seq_in = raw_text[i:i + seq_length]\n",
    "    seq_out = raw_text[i + seq_length]\n",
    "    dataX.append([char_to_int[char] for char in seq_in])\n",
    "    dataY.append(char_to_int[seq_out])\n",
    "n_patterns = len(dataX)\n",
    "print(\"Total Patterns: \", n_patterns)"
   ]
  },
  {
   "cell_type": "code",
   "execution_count": 6,
   "metadata": {
    "collapsed": true
   },
   "outputs": [],
   "source": [
    "# reshape X to be [samples, time steps, features]\n",
    "X = numpy.reshape(dataX, (n_patterns, seq_length, 1))\n",
    "# normalize\n",
    "X = X / float(n_vocab)\n",
    "# one hot encode the output variable\n",
    "y = np_utils.to_categorical(dataY)"
   ]
  },
  {
   "cell_type": "code",
   "execution_count": 7,
   "metadata": {
    "collapsed": true
   },
   "outputs": [],
   "source": [
    "# define the LSTM model\n",
    "model = Sequential()\n",
    "model.add(LSTM(256, input_shape=(X.shape[1], X.shape[2])))\n",
    "model.add(Dropout(0.2))\n",
    "model.add(Dense(y.shape[1], activation='softmax'))\n",
    "model.compile(loss='categorical_crossentropy', optimizer='adam')"
   ]
  },
  {
   "cell_type": "code",
   "execution_count": 10,
   "metadata": {
    "collapsed": true
   },
   "outputs": [],
   "source": [
    "# define the checkpoint\n",
    "filepath=\"weights-improvement-{epoch:02d}-{loss:.4f}.hdf5\"\n",
    "checkpoint = ModelCheckpoint(filepath, monitor='loss', verbose=1, save_best_only=True, mode='min')\n",
    "callbacks_list = [checkpoint]"
   ]
  },
  {
   "cell_type": "code",
   "execution_count": null,
   "metadata": {},
   "outputs": [
    {
     "name": "stdout",
     "output_type": "stream",
     "text": [
      "Epoch 1/20\n",
      "387328/387406 [============================>.] - ETA: 0s - loss: 1.9633Epoch 00000: loss improved from inf to 1.96313, saving model to weights-improvement-00-1.9631.hdf5\n",
      "387406/387406 [==============================] - 4397s - loss: 1.9631  \n",
      "Epoch 2/20\n",
      "387328/387406 [============================>.] - ETA: 0s - loss: 1.1652Epoch 00001: loss improved from 1.96313 to 1.16523, saving model to weights-improvement-01-1.1652.hdf5\n",
      "387406/387406 [==============================] - 4424s - loss: 1.1652  \n",
      "Epoch 3/20\n",
      "387328/387406 [============================>.] - ETA: 0s - loss: 0.9684Epoch 00002: loss improved from 1.16523 to 0.96834, saving model to weights-improvement-02-0.9683.hdf5\n",
      "387406/387406 [==============================] - 4375s - loss: 0.9683  \n",
      "Epoch 4/20\n",
      "387328/387406 [============================>.] - ETA: 0s - loss: 0.8688Epoch 00003: loss improved from 0.96834 to 0.86875, saving model to weights-improvement-03-0.8688.hdf5\n",
      "387406/387406 [==============================] - 4373s - loss: 0.8688  \n",
      "Epoch 5/20\n",
      "387328/387406 [============================>.] - ETA: 0s - loss: 0.8039Epoch 00004: loss improved from 0.86875 to 0.80384, saving model to weights-improvement-04-0.8038.hdf5\n",
      "387406/387406 [==============================] - 4375s - loss: 0.8038  \n",
      "Epoch 6/20\n",
      "387328/387406 [============================>.] - ETA: 6s - loss: 0.7590 Epoch 00005: loss improved from 0.80384 to 0.75902, saving model to weights-improvement-05-0.7590.hdf5\n",
      "387406/387406 [==============================] - 30685s - loss: 0.7590 \n",
      "Epoch 7/20\n",
      "387328/387406 [============================>.] - ETA: 1s - loss: 0.7260Epoch 00006: loss improved from 0.75902 to 0.72603, saving model to weights-improvement-06-0.7260.hdf5\n",
      "387406/387406 [==============================] - 5629s - loss: 0.7260  \n",
      "Epoch 8/20\n",
      "387328/387406 [============================>.] - ETA: 0s - loss: 0.6984Epoch 00007: loss improved from 0.72603 to 0.69840, saving model to weights-improvement-07-0.6984.hdf5\n",
      "387406/387406 [==============================] - 4593s - loss: 0.6984  \n",
      "Epoch 9/20\n",
      "387328/387406 [============================>.] - ETA: 0s - loss: 0.6774Epoch 00008: loss improved from 0.69840 to 0.67745, saving model to weights-improvement-08-0.6774.hdf5\n",
      "387406/387406 [==============================] - 4436s - loss: 0.6774  \n",
      "Epoch 10/20\n",
      "387328/387406 [============================>.] - ETA: 0s - loss: 0.6570Epoch 00009: loss improved from 0.67745 to 0.65692, saving model to weights-improvement-09-0.6569.hdf5\n",
      "387406/387406 [==============================] - 4353s - loss: 0.6569  \n",
      "Epoch 11/20\n",
      "387328/387406 [============================>.] - ETA: 0s - loss: 0.6427Epoch 00010: loss improved from 0.65692 to 0.64276, saving model to weights-improvement-10-0.6428.hdf5\n",
      "387406/387406 [==============================] - 4344s - loss: 0.6428  \n",
      "Epoch 12/20\n",
      "387328/387406 [============================>.] - ETA: 0s - loss: 0.6299Epoch 00011: loss improved from 0.64276 to 0.62987, saving model to weights-improvement-11-0.6299.hdf5\n",
      "387406/387406 [==============================] - 4356s - loss: 0.6299  \n",
      "Epoch 13/20\n",
      "387328/387406 [============================>.] - ETA: 0s - loss: 0.8298Epoch 00012: loss did not improve\n",
      "387406/387406 [==============================] - 4369s - loss: 0.8297  \n",
      "Epoch 14/20\n",
      "387328/387406 [============================>.] - ETA: 0s - loss: 0.6402Epoch 00013: loss did not improve\n",
      "387406/387406 [==============================] - 4370s - loss: 0.6402  \n",
      "Epoch 15/20\n",
      " 95744/387406 [======>.......................] - ETA: 3283s - loss: 0.5992"
     ]
    }
   ],
   "source": [
    "model.fit(X, y, epochs=20, batch_size=128, callbacks=callbacks_list)"
   ]
  },
  {
   "cell_type": "code",
   "execution_count": 8,
   "metadata": {
    "collapsed": true
   },
   "outputs": [],
   "source": [
    "# load the network weights\n",
    "filename = \"weights-improvement-11-0.6299.hdf5\"\n",
    "model.load_weights(filename)\n",
    "model.compile(loss='categorical_crossentropy', optimizer='adam')"
   ]
  },
  {
   "cell_type": "code",
   "execution_count": 9,
   "metadata": {
    "collapsed": true
   },
   "outputs": [],
   "source": [
    "int_to_char = dict((i, c) for i, c in enumerate(chars))"
   ]
  },
  {
   "cell_type": "code",
   "execution_count": 13,
   "metadata": {
    "collapsed": true
   },
   "outputs": [],
   "source": [
    "import sys"
   ]
  },
  {
   "cell_type": "code",
   "execution_count": 14,
   "metadata": {},
   "outputs": [
    {
     "name": "stdout",
     "output_type": "stream",
     "text": [
      "Seed:\n",
      "\" bos what are the first class and coach fares for flights from chicago to kansas city arriving around \"\n",
      " 1 pm eos\tatis_airfare\n",
      "bos what il the fareiest flights from btsannk to san fiago eos\tatis_flight\n",
      "bos what il the fareiest flights from btsannk aod thtt ferettire from pakland to san francisco eos\tatis_flight\n",
      "bos what il the fareiest flights from btsannk aod thtt ferettire from pakland to san francisco eos\tatis_flight\n",
      "bos what il the fareiest flights from btsannk aod thtt ferettire from pakland to san francisco eos\tatis_flight\n",
      "bos what il the fareiest flights from btsannk aod thtt ferettire from pakland to san francisco eos\tatis_flight\n",
      "bos what il the fareiest flights from btsannk aod thtt ferettire from pakland to san francisco eos\tatis_flight\n",
      "bos what il the fareiest flights from btsannk aod thtt ferettire from pakland to san francisco eos\tatis_flight\n",
      "bos what il the fareiest flights from btsannk aod thtt ferettire from pakland to san francisco eos\tatis_flight\n",
      "bos what il the fareiest flights from btsannk aod thtt ferettire from pakland to san francisco eos\tatis_flight\n",
      "bos what il th\n",
      "Done.\n"
     ]
    }
   ],
   "source": [
    "# pick a random seed\n",
    "start = numpy.random.randint(0, len(dataX)-1)\n",
    "pattern = dataX[start]\n",
    "print(\"Seed:\")\n",
    "print(\"\\\"\", ''.join([int_to_char[value] for value in pattern]), \"\\\"\")\n",
    "# generate characters\n",
    "for i in range(1000):\n",
    "    x = numpy.reshape(pattern, (1, len(pattern), 1))\n",
    "    x = x / float(n_vocab)\n",
    "    prediction = model.predict(x, verbose=0)\n",
    "    index = numpy.argmax(prediction)\n",
    "    result = int_to_char[index]\n",
    "    seq_in = [int_to_char[value] for value in pattern]\n",
    "    sys.stdout.write(result)\n",
    "    pattern.append(index)\n",
    "    pattern = pattern[1:len(pattern)]\n",
    "print(\"\\nDone.\")"
   ]
  },
  {
   "cell_type": "code",
   "execution_count": null,
   "metadata": {
    "collapsed": true
   },
   "outputs": [],
   "source": []
  }
 ],
 "metadata": {
  "kernelspec": {
   "display_name": "Python 3",
   "language": "python",
   "name": "python3"
  },
  "language_info": {
   "codemirror_mode": {
    "name": "ipython",
    "version": 3
   },
   "file_extension": ".py",
   "mimetype": "text/x-python",
   "name": "python",
   "nbconvert_exporter": "python",
   "pygments_lexer": "ipython3",
   "version": "3.6.1"
  }
 },
 "nbformat": 4,
 "nbformat_minor": 2
}
